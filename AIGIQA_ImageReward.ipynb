{
  "nbformat": 4,
  "nbformat_minor": 0,
  "metadata": {
    "colab": {
      "provenance": [],
      "machine_shape": "hm",
      "gpuType": "T4",
      "authorship_tag": "ABX9TyOm1wizEMmiX9/wDE6fqLc6",
      "include_colab_link": true
    },
    "kernelspec": {
      "name": "python3",
      "display_name": "Python 3"
    },
    "language_info": {
      "name": "python"
    },
    "accelerator": "GPU"
  },
  "cells": [
    {
      "cell_type": "markdown",
      "metadata": {
        "id": "view-in-github",
        "colab_type": "text"
      },
      "source": [
        "<a href=\"https://colab.research.google.com/github/MuhammadAbuSufian/Evaluation-of-ImageReward-and-PickScore-Models-on-AIGIQA-4K-Dataset/blob/main/AIGIQA_ImageReward.ipynb\" target=\"_parent\"><img src=\"https://colab.research.google.com/assets/colab-badge.svg\" alt=\"Open In Colab\"/></a>"
      ]
    },
    {
      "cell_type": "code",
      "execution_count": null,
      "metadata": {
        "id": "ki76KfsXEAZ3"
      },
      "outputs": [],
      "source": [
        "!pip install image-reward\n",
        "!pip install git+https://github.com/openai/CLIP.git\n",
        "# Import necessary libraries\n",
        "import pandas as pd\n",
        "from PIL import Image\n",
        "import os\n",
        "import ImageReward as RM\n",
        "import numpy as np\n",
        "from scipy.stats import pearsonr, spearmanr, kendalltau\n",
        "from google.colab import drive"
      ]
    },
    {
      "cell_type": "code",
      "source": [
        "model = RM.load(\"ImageReward-v1.0\")\n",
        "\n",
        "# Load the CSV file\n",
        "drive.mount('/content/drive')\n",
        "data = pd.read_csv('/content/drive/MyDrive/Colab/AIGIQA/annotation.csv')"
      ],
      "metadata": {
        "id": "EjQpfmzIENvy"
      },
      "execution_count": null,
      "outputs": []
    },
    {
      "cell_type": "code",
      "source": [
        "image_reward_scores = []\n",
        "AIGIQA_socres = []\n",
        "\n",
        "for index, row in data.iterrows():\n",
        "    image_name = row['Generated_image']\n",
        "    prompt = row['Text_prompt']\n",
        "    AIGIQA_socre = row['MOS_a']\n",
        "\n",
        "    try:\n",
        "        image_path = os.path.join('/content/drive/MyDrive/Colab/AIGIQA/All', image_name)\n",
        "\n",
        "        with Image.open(image_path) as img:\n",
        "            reward = model.score(prompt, img)\n",
        "            image_reward_scores.append(reward)\n",
        "            AIGIQA_socres.append(AIGIQA_socre.split('_')[0])\n",
        "\n",
        "    except IOError:\n",
        "        print(f\"Failed to load image {image_name}\")\n"
      ],
      "metadata": {
        "id": "Rkp9ApaOEOZy"
      },
      "execution_count": null,
      "outputs": []
    },
    {
      "cell_type": "code",
      "source": [
        "\n",
        "subjective_scores = np.array(AIGIQA_socres, dtype=float)\n",
        "objective_scores = np.array(image_reward_scores, dtype=float)\n",
        "\n",
        "plcc, _ = pearsonr(subjective_scores, objective_scores)\n",
        "srocc, _ = spearmanr(subjective_scores, objective_scores)\n",
        "krocc, _ = kendalltau(subjective_scores, objective_scores)\n",
        "\n",
        "print(\"PLCC:\", plcc)\n",
        "print(\"SROCC:\", srocc)\n",
        "print(\"KROCC:\", krocc)"
      ],
      "metadata": {
        "colab": {
          "base_uri": "https://localhost:8080/"
        },
        "id": "A_nUllpyEUSI",
        "outputId": "9b792ec7-76ad-404c-c06e-d9ce82cb3501"
      },
      "execution_count": null,
      "outputs": [
        {
          "output_type": "stream",
          "name": "stdout",
          "text": [
            "Sizes: 4000 4000\n",
            "PLCC: 0.26147267829431736\n",
            "SROCC: 0.24177683612945275\n",
            "KROCC: 0.16173563340948457\n",
            "[1.4086 1.722  1.764  ... 3.478  3.2175 2.8933]\n",
            "[1.39117086 0.88918126 1.30831277 ... 1.95952857 1.95952857 1.95952857]\n"
          ]
        }
      ]
    }
  ]
}