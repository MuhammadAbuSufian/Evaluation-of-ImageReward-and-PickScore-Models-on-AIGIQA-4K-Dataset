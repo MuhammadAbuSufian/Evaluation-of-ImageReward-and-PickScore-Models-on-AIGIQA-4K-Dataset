{
  "cells": [
    {
      "cell_type": "markdown",
      "metadata": {
        "id": "view-in-github",
        "colab_type": "text"
      },
      "source": [
        "<a href=\"https://colab.research.google.com/github/MuhammadAbuSufian/Evaluation-of-ImageReward-and-PickScore-Models-on-AIGIQA-4K-Dataset/blob/main/AIGIQA_PickScore.ipynb\" target=\"_parent\"><img src=\"https://colab.research.google.com/assets/colab-badge.svg\" alt=\"Open In Colab\"/></a>"
      ]
    },
    {
      "cell_type": "code",
      "execution_count": null,
      "metadata": {
        "id": "2K6MsqIuwTw0"
      },
      "outputs": [],
      "source": [
        "# Import necessary libraries\n",
        "from transformers import AutoProcessor, AutoModel\n",
        "from PIL import Image\n",
        "import torch\n",
        "from torch.nn import functional as F\n",
        "from io import BytesIO\n",
        "import numpy as np\n",
        "from scipy.stats import pearsonr, spearmanr, kendalltau\n",
        "import os\n",
        "import pandas as pd\n",
        "from google.colab import drive"
      ]
    },
    {
      "cell_type": "code",
      "execution_count": null,
      "metadata": {
        "id": "LDhvcWszx_14"
      },
      "outputs": [],
      "source": [
        "# Setup the device for model computation\n",
        "device = \"cuda\" if torch.cuda.is_available() else \"cpu\"\n",
        "\n",
        "# Load the model and processor from Hugging Face\n",
        "processor_name_or_path = \"laion/CLIP-ViT-H-14-laion2B-s32B-b79K\"\n",
        "model_pretrained_name_or_path = \"yuvalkirstain/PickScore_v1\"\n",
        "processor = AutoProcessor.from_pretrained(processor_name_or_path)\n",
        "model = AutoModel.from_pretrained(model_pretrained_name_or_path).eval().to(device)"
      ]
    },
    {
      "cell_type": "code",
      "execution_count": null,
      "metadata": {
        "id": "nWfIqmDOyIGv"
      },
      "outputs": [],
      "source": [
        "def calc_alignment_score(prompt, image):\n",
        "\n",
        "    image_input = processor(images=image, return_tensors=\"pt\").to(device)\n",
        "    text_input = processor(text=prompt, return_tensors=\"pt\").to(device)\n",
        "\n",
        "    with torch.no_grad():\n",
        "        image_emb = model.get_image_features(**image_input)\n",
        "        image_emb = image_emb / image_emb.norm(dim=-1, keepdim=True)\n",
        "\n",
        "        text_emb = model.get_text_features(**text_input)\n",
        "        text_emb = text_emb / text_emb.norm(dim=-1, keepdim=True)\n",
        "\n",
        "        match_score = (text_emb @ image_emb.T).squeeze()\n",
        "\n",
        "    return match_score.item()"
      ]
    },
    {
      "cell_type": "code",
      "execution_count": null,
      "metadata": {
        "colab": {
          "base_uri": "https://localhost:8080/"
        },
        "id": "YjmLei84x9GQ",
        "outputId": "e4da69a7-ad09-4964-c3bb-97aea5cfb317"
      },
      "outputs": [
        {
          "name": "stdout",
          "output_type": "stream",
          "text": [
            "Drive already mounted at /content/drive; to attempt to forcibly remount, call drive.mount(\"/content/drive\", force_remount=True).\n"
          ]
        }
      ],
      "source": [
        "drive.mount('/content/drive')\n",
        "\n",
        "# Load the CSV file\n",
        "raw_data = pd.read_csv('/content/drive/MyDrive/Colab/AIGIQA/annotation.csv')\n",
        "data = raw_data"
      ]
    },
    {
      "cell_type": "code",
      "source": [
        "pick_scores = []\n",
        "AIGIQA_socres = []\n",
        "\n",
        "for index, row in data.iterrows():\n",
        "\n",
        "    image_name = row['Generated_image']\n",
        "    prompt = row['Text_prompt']\n",
        "    AIGIQA_socre = row['MOS_a']\n",
        "\n",
        "    image_path = os.path.join('/content/drive/MyDrive/Colab/AIGIQA/All', image_name)\n",
        "\n",
        "    try:\n",
        "        with Image.open(image_path) as img:\n",
        "            reward = calc_alignment_score(prompt, img)\n",
        "            pick_scores.append(reward)\n",
        "            AIGIQA_socres.append(AIGIQA_socre.split('_')[0])\n",
        "    except IOError:\n",
        "        print(f\"Failed to load image {image_name}\")"
      ],
      "metadata": {
        "id": "HsKniFoKN9gc"
      },
      "execution_count": null,
      "outputs": []
    },
    {
      "cell_type": "code",
      "execution_count": null,
      "metadata": {
        "colab": {
          "background_save": true
        },
        "id": "EVFAccqiyXR3",
        "outputId": "3ceda1bc-df64-495a-da4a-5dd13c30918c"
      },
      "outputs": [
        {
          "name": "stdout",
          "output_type": "stream",
          "text": [
            "Sizes: 4000 4000\n",
            "PLCC: 0.35643929447598377\n",
            "SROCC: 0.35939199067030436\n",
            "KROCC: 0.24244184537158392\n"
          ]
        }
      ],
      "source": [
        "subjective_scores = np.array(AIGIQA_socres, dtype=float)\n",
        "objective_scores = np.array(pick_scores, dtype=float)\n",
        "\n",
        "plcc, _ = pearsonr(subjective_scores, objective_scores)\n",
        "srocc, _ = spearmanr(subjective_scores, objective_scores)\n",
        "krocc, _ = kendalltau(subjective_scores, objective_scores)\n",
        "\n",
        "print(\"PLCC:\", plcc)\n",
        "print(\"SROCC:\", srocc)\n",
        "print(\"KROCC:\", krocc)\n"
      ]
    }
  ],
  "metadata": {
    "colab": {
      "machine_shape": "hm",
      "provenance": [],
      "mount_file_id": "1B9gRc5Q6fjuBV7vvWLmI3XYz1EcXuaq_",
      "authorship_tag": "ABX9TyOOBA08kkPd8vY9iJDqlNqg",
      "include_colab_link": true
    },
    "kernelspec": {
      "display_name": "Python 3",
      "name": "python3"
    },
    "language_info": {
      "name": "python"
    }
  },
  "nbformat": 4,
  "nbformat_minor": 0
}